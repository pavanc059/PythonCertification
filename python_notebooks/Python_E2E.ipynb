{
 "cells": [
  {
   "cell_type": "code",
   "execution_count": null,
   "metadata": {},
   "outputs": [
    {
     "name": "stdout",
     "output_type": "stream",
     "text": [
      "Hans active\n",
      "maps inactive\n",
      "Deleting maps\n"
     ]
    },
    {
     "ename": "RuntimeError",
     "evalue": "dictionary changed size during iteration",
     "output_type": "error",
     "traceback": [
      "\u001b[1;31m---------------------------------------------------------------------------\u001b[0m",
      "\u001b[1;31mRuntimeError\u001b[0m                              Traceback (most recent call last)",
      "Cell \u001b[1;32mIn[3], line 7\u001b[0m\n\u001b[0;32m      4\u001b[0m usersCopy \u001b[38;5;241m=\u001b[39m users\u001b[38;5;241m.\u001b[39mcopy()\n\u001b[0;32m      6\u001b[0m \u001b[38;5;66;03m# Strategy:  Iterate over a copy\u001b[39;00m\n\u001b[1;32m----> 7\u001b[0m \u001b[38;5;28;43;01mfor\u001b[39;49;00m\u001b[43m \u001b[49m\u001b[43muser\u001b[49m\u001b[43m,\u001b[49m\u001b[43m \u001b[49m\u001b[43mstatus\u001b[49m\u001b[43m \u001b[49m\u001b[38;5;129;43;01min\u001b[39;49;00m\u001b[43m \u001b[49m\u001b[43musersCopy\u001b[49m\u001b[38;5;241;43m.\u001b[39;49m\u001b[43mitems\u001b[49m\u001b[43m(\u001b[49m\u001b[43m)\u001b[49m\u001b[43m:\u001b[49m\n\u001b[0;32m      8\u001b[0m \u001b[43m    \u001b[49m\u001b[38;5;28;43mprint\u001b[39;49m\u001b[43m(\u001b[49m\u001b[43muser\u001b[49m\u001b[43m,\u001b[49m\u001b[43m \u001b[49m\u001b[43mstatus\u001b[49m\u001b[43m)\u001b[49m\n\u001b[0;32m      9\u001b[0m \u001b[43m    \u001b[49m\u001b[38;5;28;43;01mif\u001b[39;49;00m\u001b[43m \u001b[49m\u001b[43mstatus\u001b[49m\u001b[43m \u001b[49m\u001b[38;5;241;43m==\u001b[39;49m\u001b[43m \u001b[49m\u001b[38;5;124;43m'\u001b[39;49m\u001b[38;5;124;43minactive\u001b[39;49m\u001b[38;5;124;43m'\u001b[39;49m\u001b[43m:\u001b[49m\n",
      "\u001b[1;31mRuntimeError\u001b[0m: dictionary changed size during iteration"
     ]
    },
    {
     "ename": "",
     "evalue": "",
     "output_type": "error",
     "traceback": [
      "\u001b[1;31mThe Kernel crashed while executing code in the current cell or a previous cell. \n",
      "\u001b[1;31mPlease review the code in the cell(s) to identify a possible cause of the failure. \n",
      "\u001b[1;31mClick <a href='https://aka.ms/vscodeJupyterKernelCrash'>here</a> for more info. \n",
      "\u001b[1;31mView Jupyter <a href='command:jupyter.viewOutput'>log</a> for further details."
     ]
    }
   ],
   "source": [
    "# Create a sample collection\n",
    "users = {'Hans': 'active', 'maps': 'inactive', 'mats': 'active'}\n",
    "\n",
    "usersCopy = users.copy()\n",
    "\n",
    "# Strategy:  Iterate over a copy\n",
    "for user, status in usersCopy.items():\n",
    "    print(user, status)\n",
    "    if status == 'inactive':\n",
    "        print(f'Deleting {user}')\n",
    "        del usersCopy[user]\n",
    "\n",
    "print(f'usersCopy {usersCopy}')\n",
    "# Strategy:  Create a new collection\n",
    "active_users = {}\n",
    "for user, status in users.items():\n",
    "    if status == 'active':\n",
    "        active_users[user] = status\n",
    "\n",
    "print(f'Active users {active_users}')"
   ]
  },
  {
   "cell_type": "markdown",
   "metadata": {},
   "source": [
    "Raw strings by adding an r before the first quote"
   ]
  },
  {
   "cell_type": "code",
   "execution_count": 1,
   "metadata": {},
   "outputs": [
    {
     "name": "stdout",
     "output_type": "stream",
     "text": [
      "tab\ttype\n",
      "C:\\this\\will\\not\\work\\\n",
      "Hello WorldPavan\n",
      "test1test2\n",
      "hello world\n",
      "****Hello World*****\n",
      "3\n"
     ]
    },
    {
     "data": {
      "text/plain": [
       "'Pavan was born in India'"
      ]
     },
     "execution_count": 1,
     "metadata": {},
     "output_type": "execute_result"
    }
   ],
   "source": [
    "spam = r'tab\\ttype'\n",
    "print(spam)\n",
    "\n",
    "sp = r'C:\\this\\will\\not\\work''\\\\'\n",
    "print(sp)\n",
    "\n",
    "stringTest = 'Hello World' 'Pavan'\n",
    "print(stringTest)\n",
    "\n",
    "stringTest = ('test1'\n",
    "              'test2')\n",
    "print(stringTest[:5]+stringTest[5:])\n",
    "\n",
    "stringTest = 'Hello World'\n",
    "print(stringTest.casefold())\n",
    "print(stringTest.center(20, '*'))\n",
    "print(stringTest.count('l'))\n",
    "'{name} was born in {country}'.format_map({'name': 'Pavan', 'country': 'India'})"
   ]
  },
  {
   "cell_type": "markdown",
   "metadata": {},
   "source": [
    "1) Match statement and _ is default case in match.\n",
    "2) __match_args__ special attribute in your classes. If it’s set to (“x”, “y”), the following patterns are all equivalent (and all bind the y attribute to the var variable):\n",
    "\n",
    "Point(1, var)\n",
    "Point(1, y=var)\n",
    "Point(x=1, y=var)\n",
    "Point(y=var, x=1)"
   ]
  },
  {
   "cell_type": "code",
   "execution_count": 4,
   "metadata": {},
   "outputs": [
    {
     "name": "stdout",
     "output_type": "stream",
     "text": [
      "Two on the Y axis at 10, 15\n"
     ]
    }
   ],
   "source": [
    "def http_error(status):\n",
    "    match status:\n",
    "        case 400:\n",
    "            return \"Bad request\"\n",
    "        case 404:\n",
    "            return \"Not found\"\n",
    "        case 418:\n",
    "            return \"I'm a teapot\"\n",
    "        case 500 | 501 if status != 500:\n",
    "            return \"Internal server error\"\n",
    "        case _:\n",
    "            return \"Something's wrong with the internet\"\n",
    "http_error(500)\n",
    "\n",
    "class Point:\n",
    "    __match_args__ = ('x', 'y')\n",
    "    def __init__(self, x, y):\n",
    "        self.x = x\n",
    "        self.y = y\n",
    "\n",
    "def matchArgs(points):\n",
    "    match points:\n",
    "        case []:\n",
    "            print(\"No points\")\n",
    "        case [Point(0, 0)]:\n",
    "            print(\"The origin\")\n",
    "        case [Point(x, y)]:\n",
    "            print(f\"Single point {x}, {y}\")\n",
    "        case [Point(0, y1), Point(0, y2)]:\n",
    "            print(f\"Two on the Y axis at {y1}, {y2}\")\n",
    "        case _:\n",
    "            print(\"Something else\")\n",
    "\n",
    "#matchArgs([Point(10, ), Point(13)])\n",
    "matchArgs([Point(0, 10), Point(0, 15)])"
   ]
  },
  {
   "cell_type": "markdown",
   "metadata": {},
   "source": [
    "The default values are evaluated at the point of function definition in the defining scope,"
   ]
  },
  {
   "cell_type": "code",
   "execution_count": 5,
   "metadata": {},
   "outputs": [
    {
     "name": "stdout",
     "output_type": "stream",
     "text": [
      "5\n"
     ]
    }
   ],
   "source": [
    "i = 5\n",
    "\n",
    "def f(arg=i):\n",
    "    print(arg)\n",
    "\n",
    "i = 6\n",
    "f()"
   ]
  },
  {
   "cell_type": "markdown",
   "metadata": {},
   "source": [
    "Important warning: The default value is evaluated only once. This makes a difference when the default is a mutable object such as a list, dictionary, or instances of most classes. For example, the following function accumulates the arguments passed to it on subsequent calls:\n",
    "If you don’t want the default to be shared between subsequent calls, you can write the function like this instead:\n"
   ]
  },
  {
   "cell_type": "code",
   "execution_count": 6,
   "metadata": {},
   "outputs": [
    {
     "name": "stdout",
     "output_type": "stream",
     "text": [
      "[1]\n",
      "[1, 2]\n",
      "[1, 2, 3]\n"
     ]
    }
   ],
   "source": [
    "def f(a, L=[]):\n",
    "    L.append(a)\n",
    "    return L\n",
    "\n",
    "\n",
    "\n",
    "# def f(a, L=None):\n",
    "#     if L is None:\n",
    "#         L = []\n",
    "#     L.append(a)\n",
    "#     return L\n",
    "\n",
    "print(f(1))\n",
    "print(f(2))\n",
    "print(f(3))"
   ]
  },
  {
   "cell_type": "markdown",
   "metadata": {},
   "source": [
    "Functions can also be called using keyword arguments of the form kwarg=value. For instance, the following function:\n",
    "In a function call, keyword arguments must follow positional arguments. All the keyword arguments passed must match one of the arguments accepted by the function (e.g. actor is not a valid argument for the parrot function), and their order is not important. This also includes non-optional arguments (e.g. parrot(voltage=1000) is valid too). No argument may receive a value more than once. Here’s an example that fails due to this restriction:\n",
    "\n",
    "When a final formal parameter of the form **name is present, it receives a dictionary (see Mapping Types — dict) containing all keyword arguments except for those corresponding to a formal parameter. This may be combined with a formal parameter of the form *name (described in the next subsection) which receives a tuple containing the positional arguments beyond the formal parameter list. (*name must occur before **name.)"
   ]
  },
  {
   "cell_type": "code",
   "execution_count": 7,
   "metadata": {},
   "outputs": [
    {
     "name": "stdout",
     "output_type": "stream",
     "text": [
      "-- This parrot wouldn't action from position if you put 1000 volts through it.\n",
      "-- Lovely plumage, the dict blue\n",
      "-- It's a stiff from position !\n"
     ]
    }
   ],
   "source": [
    "def parrot(voltage, state='a stiff', action='voom', type='Norwegian Blue'):\n",
    "    print(\"-- This parrot wouldn't\", action, end=' ')\n",
    "    print(\"if you put\", voltage, \"volts through it.\")\n",
    "    print(\"-- Lovely plumage, the\", type)\n",
    "    print(\"-- It's\", state, \"!\")\n",
    "'''parrot(1000)                                          # 1 positional argument\n",
    "parrot(voltage=1000)                                  # 1 keyword argument\n",
    "parrot(voltage=1000000, action='VOOOOOM')             # 2 keyword arguments\n",
    "parrot(action='VOOOOOM', voltage=1000000)             # 2 keyword arguments\n",
    "parrot('a million', 'bereft of life', 'jump')         # 3 positional arguments\n",
    "parrot('a thousand', state='pushing up the daisies')  # 1 positional, 1 keyword'''\n",
    "\n",
    "#parrot()                     # required argument missing\n",
    "#parrot(voltage=5.0, 'dead')  # non-keyword argument after a keyword argument\n",
    "#parrot(110, voltage=220)     # duplicate value for the same argument\n",
    "#parrot(actor='John Cleese')  # unknown keyword argument\n",
    "\n",
    "# def function(a):\n",
    "#     pass\n",
    "\n",
    "# function(0, a=0)\n",
    "\"\"\"Traceback (most recent call last):\n",
    "  File \"<stdin>\", line 1, in <module>\n",
    "TypeError: function() got multiple values for argument 'a'\"\"\"\n",
    "\n",
    "name = ('a stiff from position', 'action from position')\n",
    "names = {'type' : 'dict blue'}\n",
    "parrot(1000, *name, **names) # * for extract list/tuples  and ** used for dictonary with key values matching function arguments"
   ]
  },
  {
   "cell_type": "markdown",
   "metadata": {},
   "source": [
    "Special parameters\n",
    "By default, arguments may be passed to a Python function either by position or explicitly by keyword. For readability and performance, it makes sense to restrict the way arguments can be passed so that a developer need only look at the function definition to determine if items are passed by position, by position or keyword, or by keyword.\n",
    "\n",
    "A function definition may look like:\n",
    "\n",
    "def f(pos1, pos2, /, pos_or_kwd, *, kwd1, kwd2):\n",
    "      -----------    ----------     ----------\n",
    "        |             |                  |\n",
    "        |        Positional or keyword   |\n",
    "        |                                - Keyword only\n",
    "         -- Positional only\n",
    "where / and * are optional. If used, these symbols indicate the kind of parameter by how the arguments may be passed to the function: positional-only, positional-or-keyword, and keyword-only. Keyword parameters are also referred to as named parameters."
   ]
  },
  {
   "cell_type": "code",
   "execution_count": 8,
   "metadata": {},
   "outputs": [
    {
     "name": "stdout",
     "output_type": "stream",
     "text": [
      "1\n",
      "2\n",
      "3\n",
      "1 2 3\n",
      "1 2 3\n",
      "-- This parrot wouldn't VOOM if you put four million volts through it.\n",
      "-- Lovely plumage, the Norwegian Blue\n",
      "-- It's bleedin' demised !\n"
     ]
    }
   ],
   "source": [
    "def standard_arg(arg):\n",
    "    print(arg)\n",
    "\n",
    "def pos_only_arg(arg, /):\n",
    "    print(arg)\n",
    "\n",
    "def kwd_only_arg(*, arg):\n",
    "    print(arg)\n",
    "\n",
    "def combined_example(pos_only, /, standard, *, kwd_only):\n",
    "    print(pos_only, standard, kwd_only)\n",
    "\n",
    "standard_arg(arg=1)\n",
    "pos_only_arg(2)\n",
    "#pos_only_arg(arg=2) # TypeError: pos_only_arg() got some positional-only arguments passed as keyword arguments: 'arg'\n",
    "#kwd_only_arg(3) # TypeError: kwd_only_arg() takes 0 positional arguments but 1 was given\n",
    "kwd_only_arg(arg=3)\n",
    "#combined_example(1) # TypeError: combined_example() missing 1 required positional argument: 'standard'\n",
    "#combined_example(1,2) # TypeError: combined_example() missing 1 required keyword-only argument: 'kwd_only'\n",
    "combined_example(1,2, kwd_only=3)\n",
    "combined_example(1,standard=2, kwd_only=3)\n",
    "#combined_example(pos_only=1,standard=2, kwd_only=3) # TypeError: combined_example() got some positional-only arguments passed as keyword arguments: 'pos_only'\n",
    "\n",
    "def foo(name, **kwds):\n",
    "    return 'name' in kwds\n",
    "\n",
    "\n",
    "def foo(name,/, **kwds):\n",
    "    return 'name' in kwds\n",
    "\n",
    "foo(1, **{'name': 2})\n",
    "\n",
    "def f(pos1, pos2, /, pos_or_kwd, *, kwd1, kwd2):\n",
    "    pass\n",
    "\n",
    "#Arbitrary Argument Lists\n",
    "def concat(*args, sep=\"/\"):\n",
    "    return sep.join(args)\n",
    "concat(\"earth\", \"mars\", \"venus\", sep=\".\")\n",
    "#Unpacking Argument Lists\n",
    "list(range(3, 6))            # normal call with separate arguments\n",
    "args = [3, 6]\n",
    "list(range(*args))            # call with arguments unpacked from a list\n",
    "\n",
    "#dictionaries can deliver keyword arguments with the **-operator\n",
    "d = {\"voltage\": \"four million\", \"state\": \"bleedin' demised\", \"action\": \"VOOM\"}\n",
    "parrot(**d)\n"
   ]
  },
  {
   "cell_type": "markdown",
   "metadata": {},
   "source": [
    "As guidance:\n",
    "\n",
    "Use positional-only if you want the name of the parameters to not be available to the user. This is useful when parameter names have no real meaning, if you want to enforce the order of the arguments when the function is called or if you need to take some positional parameters and arbitrary keywords.\n",
    "\n",
    "Use keyword-only when names have meaning and the function definition is more understandable by being explicit with names or you want to prevent users relying on the position of the argument being passed.\n",
    "\n",
    "For an API, use positional-only to prevent breaking API changes if the parameter’s name is modified in the future."
   ]
  },
  {
   "cell_type": "markdown",
   "metadata": {},
   "source": [
    "Lambda Expressions:\n",
    "Small anonymous functions can be created with the lambda keyword. This function returns the sum of its two arguments: lambda a, b: a+b. Lambda functions can be used wherever function objects are required. They are syntactically restricted to a single expression. Semantically, they are just syntactic sugar for a normal function definition. Like nested function definitions, lambda functions can reference variables from the containing scope:"
   ]
  },
  {
   "cell_type": "code",
   "execution_count": 9,
   "metadata": {},
   "outputs": [
    {
     "data": {
      "text/plain": [
       "[(4, 'four'), (1, 'one'), (3, 'three'), (2, 'two')]"
      ]
     },
     "execution_count": 9,
     "metadata": {},
     "output_type": "execute_result"
    }
   ],
   "source": [
    "def make_incrementor(n):\n",
    "    return lambda x: x + n\n",
    "f = make_incrementor(42)\n",
    "f(0)\n",
    "f(1)\n",
    "\n",
    "pairs = [(1, 'one'), (2, 'two'), (3, 'three'), (4, 'four')]\n",
    "pairs.sort(key=lambda pair: pair[1])\n",
    "pairs"
   ]
  },
  {
   "cell_type": "markdown",
   "metadata": {},
   "source": [
    "Data structures \n",
    "1) List\n",
    "2) list as stack (append() to instert at last and pop to remove element from last)\n",
    "3) Queue : Using Lists as Queues\n",
    "It is also possible to use a list as a queue, where the first element added is the first element retrieved (“first-in, first-out”); however, lists are not efficient for this purpose. While appends and pops from the end of list are fast, doing inserts or pops from the beginning of a list is slow (because all of the other elements have to be shifted by one).\n",
    "\n",
    "To implement a queue, use collections.deque which was designed to have fast appends and pops from both ends.\n",
    "4) "
   ]
  },
  {
   "cell_type": "code",
   "execution_count": 7,
   "metadata": {},
   "outputs": [
    {
     "name": "stdout",
     "output_type": "stream",
     "text": [
      "deque(['Eric', 'John', 'Michael', 'Terry', 'Graham'])\n",
      "deque(['John', 'Michael', 'Terry', 'Graham'])\n",
      "deque(['Michael', 'Terry', 'Graham'])\n",
      "using map and lambda [0, 1, 4, 9, 16, 25, 36, 49, 64, 81]\n",
      "[-8, -4, 0, 4, 8]\n",
      "[0, 4, 8]\n",
      "[0, 4, 8]\n",
      "['banana', 'loganberry', 'passion fruit']\n",
      "[(0, 0), (1, 1), (2, 4), (3, 9), (4, 16), (5, 25)]\n",
      "<class 'tuple'>\n",
      "<class 'tuple'>\n",
      "<class 'tuple'>\n",
      "[1, 2, 3, 4, 5, 6, 7, 8, 9]\n"
     ]
    }
   ],
   "source": [
    "list1 = [1,2,3,4]\n",
    "list1.extend([5,6,7,8,4])\n",
    "list1.count(4)\n",
    "\n",
    "from collections import deque\n",
    "queue = deque([\"Eric\", \"John\", \"Michael\"])\n",
    "queue.append(\"Terry\")           # Terry arrives\n",
    "queue.append(\"Graham\")          # Graham arrives\n",
    "print(queue)\n",
    "queue.popleft()                 # The first to arrive now leaves\n",
    "print(queue)\n",
    "'Graham' in queue                # Checks if Graham is still in the queue\n",
    "queue.popleft()                 # The second to arrive now leaves\n",
    "print(queue)                    # Remaining queue\n",
    "queue.pop()                     # Removes the last element from the queue\n",
    "\n",
    "squares = list(map(lambda x: x**2, range(10))) # map function takes 2 arguments one function that needs to be executed for each element of the sequence and the sequence itself\n",
    "squares\n",
    "\n",
    "print(f'using map and lambda {squares}')\n",
    "squares2 = [x**2 for x in range(10)]\n",
    "squares2\n",
    "listcomp = [(x, y) for x in [1,2,3] for y in [1,2,4] if x != y]\n",
    "listcomp\n",
    "vec = [-4, -2, 0, 2, 4]\n",
    "# create a new list with the values doubled\n",
    "vec = [x*2 for x in vec]\n",
    "print(vec)\n",
    "\n",
    "# filter the list to exclude negative numbers\n",
    "vec = [x for x in vec if x >= 0]\n",
    "print(vec)\n",
    "# apply a function to all the elements\n",
    "vec = [abs(x) for x in vec]\n",
    "print(vec)\n",
    "# call a method on each element\n",
    "freshfruit = ['  banana', '  loganberry ', 'passion fruit  ']\n",
    "freshfruit = [weapon.strip() for weapon in freshfruit]\n",
    "print(freshfruit)\n",
    "# create a list of 2-tuples like (number, square)\n",
    "tuple = [(x, x**2) for x in range(6)]\n",
    "print(tuple)\n",
    "# the tuple must be parenthesized, otherwise an error is raised\n",
    "'''[x, x**2 for x in range(6)]\n",
    "  File \"<stdin>\", line 1\n",
    "    [x, x**2 for x in range(6)]\n",
    "     ^^^^^^^\n",
    "SyntaxError: did you forget parentheses around the comprehension target?'''\n",
    "# flatten a list using a listcomp with two 'for'\n",
    "vec = [[1,2,3], [4,5,6], [7,8,9]]\n",
    "vec = [num for elem in vec for num in elem]\n",
    "print(vec)"
   ]
  },
  {
   "cell_type": "markdown",
   "metadata": {},
   "source": [
    " Nested List Comprehensions\n",
    " The initial expression in a list comprehension can be any arbitrary expression, including another list comprehension.\n",
    " Consider the following example of a 3x4 matrix implemented as a list of 3 lists of length 4:"
   ]
  },
  {
   "cell_type": "code",
   "execution_count": 11,
   "metadata": {},
   "outputs": [
    {
     "name": "stdout",
     "output_type": "stream",
     "text": [
      "[[1, 5, 9, 13], [2, 6, 10, 14], [3, 7, 11, 15], [4, 8, 12, 16]]\n",
      "(1, 'sugar')\n",
      "(2, 'spice')\n",
      "(3, 'everything nice')\n"
     ]
    },
    {
     "data": {
      "text/plain": [
       "[(3, 7, 11, 15), (4, 8, 12, 16)]"
      ]
     },
     "execution_count": 11,
     "metadata": {},
     "output_type": "execute_result"
    }
   ],
   "source": [
    "matrix = [\n",
    "    [1, 2, 3, 4],\n",
    "    [5, 6, 7, 8],\n",
    "    [9, 10, 11, 12],\n",
    "    [13, 14, 15, 16],\n",
    "]\n",
    "\n",
    "transposed = [[y[x] for y in matrix] for x in range(len(matrix))]\n",
    "print(transposed)\n",
    "\n",
    "\n",
    "zipped = list(zip(*matrix))\n",
    "#Iterate over several iterables in parallel, producing tuples with an item from each one.\n",
    "#Example:\n",
    "\n",
    "for item in zip([1, 2, 3], ['sugar', 'spice', 'everything nice']):\n",
    "    print(item)\n",
    "\n",
    "del zipped[0:2]\n",
    "zipped"
   ]
  },
  {
   "cell_type": "markdown",
   "metadata": {},
   "source": [
    "Tuples and Sequences:\n",
    "We saw that lists and strings have many common properties, such as indexing and slicing operations. They are two examples of sequence data types (see Sequence Types — list, tuple, range). Since Python is an evolving language, other sequence data types may be added. There is also another standard sequence data type: the tuple.\n",
    "\n",
    "A tuple consists of a number of values separated by commas, for instance:\n",
    "As you see, on output tuples are always enclosed in parentheses, so that nested tuples are interpreted correctly; \n",
    "they may be input with or without surrounding parentheses, although often parentheses are necessary anyway (if the tuple is part of a larger expression). \n",
    "It is not possible to assign to the individual items of a tuple, however it is possible to create tuples which contain mutable objects, such as lists.\n",
    "\n",
    "\n",
    "A special problem is the construction of tuples containing 0 or 1 items: the syntax has some extra quirks to accommodate these. \n",
    "Empty tuples are constructed by an empty pair of parentheses; a tuple with one item is constructed by following a value with a comma (it is not sufficient to enclose a single value in parentheses). \n",
    "Ugly, but effective. For example:"
   ]
  },
  {
   "cell_type": "code",
   "execution_count": 17,
   "metadata": {},
   "outputs": [
    {
     "name": "stdout",
     "output_type": "stream",
     "text": [
      "(12345, 54321, 'hello!')\n",
      "(12345, 54321, 'hello!', 1, 2, 3, 4, 5)\n",
      "((12345, 54321, 'hello!'), (1, 2, 3, 4, 5))\n",
      "()\n",
      "('hello',)\n",
      "[1, 2, 3, 7] -- [4, 5, 6]\n",
      "<class 'tuple'>\n",
      "<class 'tuple'>\n",
      "<class 'tuple'>\n",
      "6\n",
      "4\n",
      "{'Adam Smith': 'A', 'Judy Paxton': 'B+'}\n",
      "{'Mary Louis': 'A', 'Patrick White': 'C'}\n",
      "{'Adam Smith': 'A', 'Judy Paxton': 'B+', 'Mary Louis': 'A', 'Patrick White': 'C'}\n"
     ]
    }
   ],
   "source": [
    "t = 12345, 54321, 'hello!'\n",
    "print(t)\n",
    "u = t + (1, 2, 3, 4, 5)\n",
    "print(u)\n",
    "u = t,  (1, 2, 3, 4, 5)\n",
    "print(u)\n",
    "\n",
    "#tuples with mutable elements. but tuple it self is immutable\n",
    "t = ([1,2,3], [4,5,6])\n",
    "t[0].append(7)\n",
    "t\n",
    "\n",
    "\n",
    "empty = ()\n",
    "singleton = 'hello',    # <-- note trailing comma\n",
    "print(empty)\n",
    "print(singleton)\n",
    "x, y = t\n",
    "print(x,\"--\", y)\n",
    "# you can also create a tuple like below with out parenthesis `()`\n",
    "tuple = 2,6,4\n",
    "print(type(tuple))\n",
    "# single value tuple\n",
    "tuple = 5,\n",
    "print(type(tuple))\n",
    "tuple = (5,) # trick is to add a comma after the value if comma not added then it will be int\n",
    "print(type(tuple))\n",
    "tup = 1, 2, 3\n",
    "a, b, c = tup # tuple unpacking\n",
    "print(a * b * c)\n",
    "\n",
    "tup = 1, 2, 3, 2, 4, 5, 6, 2, 7, 2, 8, 9\n",
    "duplicates = tup.count(2)\n",
    "\n",
    "print(duplicates)    # outputs: 4\n",
    "\n",
    "\n",
    "d1 = {'Adam Smith': 'A', 'Judy Paxton': 'B+'}\n",
    "d2 = {'Mary Louis': 'A', 'Patrick White': 'C'}\n",
    "d3 = {}\n",
    "\n",
    "for item in (d1, d2):\n",
    "    print(item)\n",
    "    d3.update(item)\n",
    "\n",
    "print(d3)\n"
   ]
  },
  {
   "cell_type": "markdown",
   "metadata": {},
   "source": [
    "Sets:\n",
    "Python also includes a data type for sets. \n",
    "A set is an unordered collection with no duplicate elements. \n",
    "Basic uses include membership testing and eliminating duplicate entries. \n",
    "Set objects also support mathematical operations like union, intersection, difference, and symmetric difference.\n",
    "\n",
    "Curly braces or the set() function can be used to create sets. \n",
    "Note: to create an empty set you have to use set(), not {}; \n",
    "the latter creates an empty dictionary, a data structure that we discuss in the next section."
   ]
  },
  {
   "cell_type": "code",
   "execution_count": 13,
   "metadata": {},
   "outputs": [
    {
     "name": "stdout",
     "output_type": "stream",
     "text": [
      "{'banana', 'pear', 'apple', 'orange'}\n",
      "set()\n",
      "{'banana', 'pear', 'apple', 'orange'}\n",
      "True\n",
      "False\n",
      "{'b', 'r', 'd', 'c', 'a'}\n",
      "{'b', 'r', 'd'}\n",
      "{'r', 'b', 'c', 'd', 'z', 'l', 'm', 'a'}\n",
      "{'a', 'c'}\n",
      "{'z', 'l', 'r', 'd', 'm', 'b'}\n"
     ]
    },
    {
     "data": {
      "text/plain": [
       "{'d', 'r'}"
      ]
     },
     "execution_count": 13,
     "metadata": {},
     "output_type": "execute_result"
    }
   ],
   "source": [
    "basket = {'apple', 'orange', 'apple', 'pear', 'orange', 'banana'}\n",
    "emptybasket = set()\n",
    "print(basket)\n",
    "print(emptybasket)\n",
    "print(basket)\n",
    "print('orange' in basket) # True fast membership testing\n",
    "print('crabgrass' in basket) # False\n",
    "\n",
    "# Demonstrate set operations on unique letters from two words\n",
    "a = set('abracadabra')\n",
    "b = set('alacazam')\n",
    "print(a) # unique letters in a\n",
    "print(a-b) # letters in a but not in b\n",
    "print(a|b) # letters in either a or b\n",
    "print(a&b) # letters in both a and b\n",
    "print(a^b) # letters in a or b but not both\n",
    "list1 = [1,2,3,4, 4,4, 6,8,7]\n",
    "\n",
    "set1 = set(list1)\n",
    "\n",
    "# similar to list comprehension set comprehension\n",
    "set2 = {x for x in 'abracadabra' if x not in 'abc'}\n",
    "#set2 = {x for x in list1}\n",
    "set2"
   ]
  },
  {
   "cell_type": "markdown",
   "metadata": {},
   "source": [
    "5.5. Dictionaries\n",
    "Another useful data type built into Python is the dictionary (see Mapping Types — dict). Dictionaries are sometimes found in other languages as “associative memories” or “associative arrays”. Unlike sequences, which are indexed by a range of numbers, dictionaries are indexed by keys, which can be any immutable type; strings and numbers can always be keys. Tuples can be used as keys if they contain only strings, numbers, or tuples; if a tuple contains any mutable object either directly or indirectly, it cannot be used as a key. You can’t use lists as keys, since lists can be modified in place using index assignments, slice assignments, or methods like append() and extend().\n",
    "\n",
    "It is best to think of a dictionary as a set of key: value pairs, with the requirement that the keys are unique (within one dictionary). A pair of braces creates an empty dictionary: {}. Placing a comma-separated list of key:value pairs within the braces adds initial key:value pairs to the dictionary; this is also the way dictionaries are written on output.\n",
    "\n",
    "The main operations on a dictionary are storing a value with some key and extracting the value given the key. It is also possible to delete a key:value pair with del. If you store using a key that is already in use, the old value associated with that key is forgotten. It is an error to extract a value using a non-existent key.\n",
    "\n",
    "Performing list(d) on a dictionary returns a list of all the keys used in the dictionary, in insertion order (if you want it sorted, just use sorted(d) instead). To check whether a single key is in the dictionary, use the in keyword."
   ]
  },
  {
   "cell_type": "code",
   "execution_count": 10,
   "metadata": {},
   "outputs": [
    {
     "name": "stdout",
     "output_type": "stream",
     "text": [
      "{'jack': 4098, 'sape': 4139, 'guido': 4127}\n",
      "{'sape': 4139, 'guido': 4127}\n"
     ]
    },
    {
     "data": {
      "text/plain": [
       "{'guido': 4127}"
      ]
     },
     "execution_count": 10,
     "metadata": {},
     "output_type": "execute_result"
    }
   ],
   "source": [
    "tel = {'jack': 4098, 'sape': 4139}\n",
    "tel['guido'] = 4127\n",
    "print(tel)\n",
    "tel['jack']\n",
    "del tel['sape']\n",
    "tel['irv'] = 4127\n",
    "tel\n",
    "'guido' in tel\n",
    "\n",
    "dict_constructor = dict([('sape', 4139), ('guido', 4127), ('jack', 4098)])\n",
    "dict_constructor.popitem() # removes last item\n",
    "print(dict_constructor)\n",
    "dict_constructor.pop('sape') # removes sape\n",
    "dict_constructor\n"
   ]
  },
  {
   "cell_type": "code",
   "execution_count": 15,
   "metadata": {},
   "outputs": [
    {
     "name": "stdout",
     "output_type": "stream",
     "text": [
      "gallahad the pure\n",
      "robin the brave\n",
      "0 tic\n",
      "1 tac\n",
      "2 toe\n",
      "What is your name?  It is lancelot.\n",
      "What is your quest?  It is the holy grail.\n",
      "What is your favorite color?  It is blue.\n",
      "9\n",
      "7\n",
      "5\n",
      "3\n",
      "1\n",
      "apple\n",
      "banana\n",
      "orange\n",
      "pear\n"
     ]
    }
   ],
   "source": [
    "# Looping Techniques\n",
    "#When looping through dictionaries, the key and corresponding value can be retrieved at the same time using the items() method.\n",
    "knights = {'gallahad': 'the pure', 'robin': 'the brave'}\n",
    "for k, v in knights.items():\n",
    "    print(k, v)\n",
    "\n",
    "# When looping through a sequence, the position index and corresponding value can be retrieved at the same time using the enumerate() function.\n",
    "for i, v in enumerate(['tic', 'tac', 'toe']):\n",
    "    print(i, v)\n",
    "\n",
    "# To loop over two or more sequences at the same time, the entries can be paired with the zip() function.\n",
    "questions = ['name', 'quest', 'favorite color']\n",
    "answers = ['lancelot', 'the holy grail', 'blue']\n",
    "for q, a in zip(questions, answers):\n",
    "    print('What is your {0}?  It is {1}.'.format(q, a))\n",
    "\n",
    "#To loop over a sequence in reverse, first specify the sequence in a forward direction and then call the reversed() function.\n",
    "for i in reversed(range(1, 10, 2)):\n",
    "    print(i)\n",
    "    # 9 7 5 3 1\n",
    "\n",
    "#To loop over a sequence in sorted order, use the sorted() function which returns a new sorted list while leaving the source unaltered.\n",
    "basket = ['apple', 'orange', 'apple', 'pear', 'orange', 'banana']\n",
    "for f in sorted(set(basket)):\n",
    "    print(f)\n"
   ]
  },
  {
   "cell_type": "markdown",
   "metadata": {},
   "source": [
    "5.7. More on Conditions\n",
    "The conditions used in while and if statements can contain any operators, not just comparisons.\n",
    "\n",
    "The comparison operators in and not in are membership tests that determine whether a value is in (or not in) a container. The operators is and is not compare whether two objects are really the same object. All comparison operators have the same priority, which is lower than that of all numerical operators.\n",
    "\n",
    "Comparisons can be chained. For example, a < b == c tests whether a is less than b and moreover b equals c.\n",
    "\n",
    "Comparisons may be combined using the Boolean operators and and or, and the outcome of a comparison (or of any other Boolean expression) may be negated with not. These have lower priorities than comparison operators; between them, not has the highest priority and or the lowest, so that A and not B or C is equivalent to (A and (not B)) or C. As always, parentheses can be used to express the desired composition.\n",
    "\n",
    "The Boolean operators and and or are so-called short-circuit operators: their arguments are evaluated from left to right, and evaluation stops as soon as the outcome is determined. For example, if A and C are true but B is false, A and B and C does not evaluate the expression C. When used as a general value and not as a Boolean, the return value of a short-circuit operator is the last evaluated argument.\n",
    "\n",
    "It is possible to assign the result of a comparison or other Boolean expression to a variable. For example,\n",
    "\n",
    ">>>\n",
    "string1, string2, string3 = '', 'Trondheim', 'Hammer Dance'\n",
    "non_null = string1 or string2 or string3\n",
    "non_null\n",
    "'Trondheim'\n",
    "Note that in Python, unlike C, assignment inside expressions must be done explicitly with the walrus operator :=. \n",
    "This avoids a common class of problems encountered in C programs: typing = in an expression when == was intended."
   ]
  },
  {
   "cell_type": "markdown",
   "metadata": {},
   "source": [
    "Comparing Sequences and Other Types\n",
    "Sequence objects typically may be compared to other objects with the same sequence type. \n",
    "The comparison uses lexicographical ordering: first the first two items are compared, and if they differ this determines the outcome of the comparison; \n",
    "if they are equal, the next two items are compared, and so on, until either sequence is exhausted. \n",
    "If two items to be compared are themselves sequences of the same type, the lexicographical comparison is carried out recursively. \n",
    "If all items of two sequences compare equal, the sequences are considered equal. If one sequence is an initial sub-sequence of the other, the shorter sequence is the smaller (lesser) one. \n",
    "Lexicographical ordering for strings uses the Unicode code point number to order individual characters. Some examples of comparisons between sequences of the same type:"
   ]
  },
  {
   "cell_type": "code",
   "execution_count": 34,
   "metadata": {},
   "outputs": [
    {
     "name": "stdout",
     "output_type": "stream",
     "text": [
      "True\n",
      "1962531215744\n",
      "1962531215744\n",
      "test\n",
      "Hammer Dance\n",
      "10\n",
      "10\n"
     ]
    }
   ],
   "source": [
    "#while chunk := fp.read(200):\n",
    "#   print(chunk)\n",
    "a = [1, 2, 3]\n",
    "b = a\n",
    "print(a is b) # is evelauate to true\n",
    "print(id(a))\n",
    "print(id(b))\n",
    "string1, string2, string3 = 'test', 'Trondheim', 'Hammer Dance'\n",
    "non_null = string1 or string2 or string3\n",
    "print(non_null)\n",
    "non_null_and = string1 and string2 and string3\n",
    "print(non_null_and)\n",
    "#(1, 2, 3)              < (1, 2, 4)\n",
    "#[1, 2, 3]              < [1, 2, 4]\n",
    "'ABC' < 'C' < 'Pascal' < 'Python'\n",
    "#(1, 2, 3, 4)           < (1, 2, 4)\n",
    "#(1, 2)                 < (1, 2, -1)\n",
    "#(1, 2, 3)             == (1.0, 2.0, 3.0)\n",
    "#(1, 2, ('aa', 'ab'))   < (1, 2, ('abc', 'a'), 4)\n",
    "print(a := 10) # walrus operator will assign value to variable and return value"
   ]
  },
  {
   "cell_type": "markdown",
   "metadata": {},
   "source": [
    "<b>Modules</b>\n",
    "\n",
    "- Module can be imported into other modules or into the main module (the collection of variables that you have access to in a script executed at the top level and in calculator mode).\n",
    "- A module is a file containing Python definitions and statements. The file name is the module name with the suffix .py appended. Within a module, the module’s name (as a string) is available as the value of the global variable  __name__. For instance, use your favorite text editor to create a file called fibo.py in the current directory.\n",
    "- This does not add the names of the functions defined in fibo directly to the current namespace it only adds the module name fibo there. Using the module name you can access the functions.\n",
    "- If you intend to use a function often you can assign it to a local name\n"
   ]
  },
  {
   "cell_type": "code",
   "execution_count": 17,
   "metadata": {},
   "outputs": [
    {
     "name": "stdout",
     "output_type": "stream",
     "text": [
      "0 1 1 2 3 5 8 13 21 34 55 89 144 233 377 610 987 \n",
      "0 1 1 2 3 5 8 13 21 34 55 89 144 233 377 \n"
     ]
    }
   ],
   "source": [
    "import fibo as fb\n",
    "fb.fib(1000)\n",
    "fb.fib2(100)\n",
    "\n",
    "fb.__name__\n",
    "\n",
    "fib = fb.fib\n",
    "fib(500)"
   ]
  },
  {
   "cell_type": "markdown",
   "metadata": {},
   "source": [
    "The code in the module will be executed, just as if you imported it, but with the __name__ set to \"__main__\". That means that by adding this code at the end of your module\n",
    "you can make the file usable as a script as well as an importable module, because the code that parses the command line only runs if the module is executed as the “main” file\n",
    ":\n",
    "\n",
    "following statement used if you want to run a python module as scripts and also to import. when you run a python file it executes as main file and code will be executed only with in below code else rest of code will be executed\n",
    "\n",
    "\n",
    "if __name__ == \"__main__\":\n",
    "    import sys\n",
    "    fib(int(sys.argv[1]))\n"
   ]
  },
  {
   "cell_type": "markdown",
   "metadata": {},
   "source": [
    "The Module Search Path : \n",
    "- Modules search order \n",
    "1) builtin modules (sys.builtin_module_names.)\n",
    "2) Searches filename with name for modules in list of directories given by variable sys.path\n",
    "    sys.path is initialized from these locations\n",
    "    I) The directory containing the input script (or the current directory when no file is specified)\n",
    "    II) PYTHONPATH (a list of directory names, with the same syntax as the shell variable PATH).\n",
    "    III)The installation-dependent default (by convention including a site-packages directory, handled by the site module).\n",
    "3) The directory containing the script being run is placed at the bigining of path, ahwad of the standard libraries path, this means that directory will be loaded insted of modules of same name in the library directory"
   ]
  },
  {
   "cell_type": "code",
   "execution_count": 18,
   "metadata": {},
   "outputs": [
    {
     "name": "stdout",
     "output_type": "stream",
     "text": [
      "None\n",
      "[1 2 3]\n"
     ]
    }
   ],
   "source": [
    "import sys\n",
    "import builtins\n",
    "import numpy as np\n",
    "sys.path.append('D:/workspace/learning/Python_projects/Python')\n",
    "dir(builtins)\n",
    "print(None)\n",
    "print(np.array([1, 2, 3]))\n",
    "\n"
   ]
  },
  {
   "cell_type": "markdown",
   "metadata": {},
   "source": [
    "Modular Design : Separate the functionality into different modules or classes for better organization and maintainability. For example, you could have separate modules for file operations, file comparisons, report generation, and user interface (if applicable).\n",
    "\n",
    "File Operations : Create a module or class to handle file operations such as listing files in a directory, reading file contents, and comparing file contents. You can use Python's built-in os and pathlib modules for directory traversal and file operations.\n",
    "\n",
    "File Comparison : Implement a function or method to compare the contents of two files. Depending on the file types, you may need to handle different comparison strategies. For text-based files (e.g., .xsl, .html, .css, .js), you can compare line by line or use a more sophisticated diff algorithm. For binary files (e.g., .jpg, .png, .pdf), you can compare the file hashes or byte-by-byte content.\n",
    "\n",
    "Report Generation : Create a module or class to generate the HTML report. You can use Python's built-in html module or a templating engine like Jinja2 to generate the HTML report dynamically.\n",
    "\n",
    "Multithreading or Multiprocessing : To improve performance, consider using multithreading or multiprocessing to compare files in parallel, especially when dealing with a large number of files or directories.\n",
    "\n",
    "Error Handling : Implement proper error handling and logging mechanisms to handle exceptions and errors gracefully, such as file not found, permission issues, or invalid file types.\n",
    "\n",
    "Configuration Management : Consider using a configuration file or command-line arguments to allow users to specify the source and destination directories, file types to include or exclude, and other options.\n",
    "\n",
    "Testing : Write unit tests and integration tests to ensure the correctness of your code and to facilitate future maintenance and refactoring.\n",
    "\n",
    "Documentation : Document your code, including function and class docstrings, to improve code readability and maintainability.\n",
    "\n",
    "Packaging and Distribution : Once your package is complete, consider packaging it for distribution using tools like setuptools or poetry, so that others can easily install and use your package.\n",
    "\n",
    "my_package/\n",
    "    __init__.py\n",
    "    file_operations.py\n",
    "    file_comparison.py\n",
    "    report_generator.py\n",
    "    main.py\n",
    "tests/\n",
    "    __init__.py\n",
    "    test_file_operations.py\n",
    "    test_file_comparison.py\n",
    "    test_report_generator.py"
   ]
  }
 ],
 "metadata": {
  "kernelspec": {
   "display_name": "Python 3",
   "language": "python",
   "name": "python3"
  },
  "language_info": {
   "codemirror_mode": {
    "name": "ipython",
    "version": 3
   },
   "file_extension": ".py",
   "mimetype": "text/x-python",
   "name": "python",
   "nbconvert_exporter": "python",
   "pygments_lexer": "ipython3",
   "version": "3.12.4"
  }
 },
 "nbformat": 4,
 "nbformat_minor": 2
}
